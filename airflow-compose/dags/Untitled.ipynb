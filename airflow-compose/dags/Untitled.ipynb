{
 "cells": [
  {
   "cell_type": "code",
   "execution_count": 2,
   "id": "14f51006-5616-4e90-ab31-7772104bcd05",
   "metadata": {},
   "outputs": [
    {
     "name": "stderr",
     "output_type": "stream",
     "text": [
      "25/05/27 16:53:51 WARN MetricsConfig: Cannot locate configuration: tried hadoop-metrics2-s3a-file-system.properties,hadoop-metrics2.properties\n"
     ]
    },
    {
     "name": "stdout",
     "output_type": "stream",
     "text": [
      "+--------------------+-------------------+-------------+--------------+------+------+--------------------+--------------------+-----------+\n",
      "|           contentId|        currentTime|    eventType|          page|rating|review|           timestamp|              userId|    videoId|\n",
      "+--------------------+-------------------+-------------+--------------+------+------+--------------------+--------------------+-----------+\n",
      "|681c4f881c23f65a6...|               NULL| review_write|content_detail|  NULL|  NULL|2025-05-27T16:23:...|54303116-f86f-400...|       NULL|\n",
      "|681c4f881c23f65a6...|               NULL|rating_submit|content_detail|  NULL|  NULL|2025-05-27T16:23:...|54303116-f86f-400...|       NULL|\n",
      "|681c4f881c23f65a6...|               NULL| review_write|content_detail|  NULL|  NULL|2025-05-27T16:24:...|54303116-f86f-400...|       NULL|\n",
      "|681c4f881c23f65a6...|               NULL|rating_submit|content_detail|  NULL|  NULL|2025-05-27T16:24:...|54303116-f86f-400...|       NULL|\n",
      "|                NULL|0.04777492752075195|         play|          NULL|  NULL|  NULL|2025-05-27T07:28:...|                NULL|mqqft2x_Aa4|\n",
      "|                NULL|           5.698658|        pause|          NULL|  NULL|  NULL|2025-05-27T07:28:...|                NULL|mqqft2x_Aa4|\n",
      "|681c4f881c23f65a6...|               NULL| review_write|content_detail|  NULL|  NULL|2025-05-27T16:46:...|54303116-f86f-400...|       NULL|\n",
      "|681c4f881c23f65a6...|               NULL|rating_submit|content_detail|  NULL|  NULL|2025-05-27T16:46:...|54303116-f86f-400...|       NULL|\n",
      "+--------------------+-------------------+-------------+--------------+------+------+--------------------+--------------------+-----------+\n",
      "\n"
     ]
    }
   ],
   "source": [
    "from pyspark.sql import SparkSession\n",
    "from pyspark.sql.functions import when, col, lit\n",
    "from datetime import timezone, timedelta, datetime\n",
    "from minio import Minio\n",
    "\n",
    "spark = SparkSession.builder \\\n",
    "    .appName(\"pipeline\") \\\n",
    "    .config(\"spark.hadoop.fs.s3a.endpoint\", \"http://54.180.166.228:9000\") \\\n",
    "    .config(\"spark.hadoop.fs.s3a.access.key\", \"minioadmin\") \\\n",
    "    .config(\"spark.hadoop.fs.s3a.secret.key\", \"minioadmin\") \\\n",
    "    .config(\"spark.hadoop.fs.s3a.path.style.access\", \"true\") \\\n",
    "    .config(\"spark.hadoop.fs.s3a.impl\", \"org.apache.hadoop.fs.s3a.S3AFileSystem\") \\\n",
    "    .config(\"spark.hadoop.fs.s3a.aws.credentials.provider\", \"\") \\\n",
    "    .config(\"spark.hadoop.fs.s3a.connection.ssl.enabled\", \"false\") \\\n",
    "    .getOrCreate()\n",
    "    \n",
    "# jsonl 파일을 Spark DataFrame으로 읽기\n",
    "file_path = 's3a://user-activity-log/'\n",
    "df = spark.read.option(\"multiline\", \"false\").json(file_path)\n",
    "\n",
    "\n",
    "df.show()"
   ]
  },
  {
   "cell_type": "code",
   "execution_count": null,
   "id": "c9bcc8dc-e8f7-4ea8-a854-b59739769722",
   "metadata": {},
   "outputs": [],
   "source": []
  }
 ],
 "metadata": {
  "kernelspec": {
   "display_name": "Python 3 (ipykernel)",
   "language": "python",
   "name": "python3"
  },
  "language_info": {
   "codemirror_mode": {
    "name": "ipython",
    "version": 3
   },
   "file_extension": ".py",
   "mimetype": "text/x-python",
   "name": "python",
   "nbconvert_exporter": "python",
   "pygments_lexer": "ipython3",
   "version": "3.11.9"
  }
 },
 "nbformat": 4,
 "nbformat_minor": 5
}
