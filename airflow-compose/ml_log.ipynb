{
 "cells": [
  {
   "cell_type": "code",
   "execution_count": 10,
   "id": "97eba80b-cd70-413f-bf76-9e62ece22c00",
   "metadata": {},
   "outputs": [],
   "source": [
    "from pyspark.sql import SparkSession\n",
    "from pyspark.sql.functions import when, col, lit\n",
    "from pyspark.sql.functions import sum as _sum, col\n",
    "from datetime import timezone, timedelta, datetime\n",
    "from minio import Minio\n",
    "\n",
    "spark = SparkSession.builder \\\n",
    "    .appName(\"ml\") \\\n",
    "    .config(\"spark.hadoop.fs.s3a.endpoint\", \"http://54.180.166.228:9000\") \\\n",
    "    .config(\"spark.hadoop.fs.s3a.access.key\", \"minioadmin\") \\\n",
    "    .config(\"spark.hadoop.fs.s3a.secret.key\", \"minioadmin\") \\\n",
    "    .config(\"spark.hadoop.fs.s3a.path.style.access\", \"true\") \\\n",
    "    .config(\"spark.hadoop.fs.s3a.impl\", \"org.apache.hadoop.fs.s3a.S3AFileSystem\") \\\n",
    "    .config(\"spark.hadoop.fs.s3a.aws.credentials.provider\", \"\") \\\n",
    "    .config(\"spark.hadoop.fs.s3a.connection.ssl.enabled\", \"false\") \\\n",
    "    .getOrCreate()\n",
    "    \n",
    "# jsonl 파일을 Spark DataFrame으로 읽기\n",
    "file_path = 's3a://ml-user-log/'\n",
    "df = spark.read.option(\"multiline\", \"false\").json(file_path)"
   ]
  },
  {
   "cell_type": "code",
   "execution_count": 11,
   "id": "32d03078-9720-4a9f-8d4d-c1a5ad47b0f2",
   "metadata": {},
   "outputs": [],
   "source": [
    "drop_df = df.drop('timestamp', 'page', 'contentCategory')\n",
    "\n",
    "df_with_score = (\n",
    "    drop_df\n",
    "    .withColumn(\"like_score\", when((col(\"eventType\") == \"like_click\") & (col(\"liked\") == 'true'), lit(3)).otherwise(lit(0)))\n",
    "    .withColumn(\"review_score\", when((col(\"eventType\") == \"review_write\") & col(\"review\").isNotNull(), lit(1)).otherwise(lit(0)))\n",
    "    .withColumn(\"rating_score\", when(\n",
    "        (col(\"eventType\") == \"rating_submit\") & col(\"rating\").isNotNull(),\n",
    "        col(\"rating\").cast(\"int\")\n",
    "    ).otherwise(lit(0)))\n",
    "    .withColumn(\"click_score\", when(col(\"eventType\") == \"content_click\", lit(1)).otherwise(lit(0)))\n",
    ")\n"
   ]
  },
  {
   "cell_type": "code",
   "execution_count": 12,
   "id": "363ef29c-f116-49a3-a0a2-b72a1bb498ec",
   "metadata": {},
   "outputs": [
    {
     "name": "stdout",
     "output_type": "stream",
     "text": [
      "+--------------------+--------------------+----------+------------+------------+-----------+-----------+\n",
      "|             user_id|          content_id|like_score|review_score|rating_score|click_score|total_score|\n",
      "+--------------------+--------------------+----------+------------+------------+-----------+-----------+\n",
      "|315439d0-8722-4a7...|68340205aec8b2058...|         3|           0|           0|          1|          4|\n",
      "|315439d0-8722-4a7...|68340205aec8b2058...|         3|           1|           5|          0|          9|\n",
      "|315439d0-8722-4a7...|68340206aec8b2058...|         3|           0|           0|          1|          4|\n",
      "|54303116-f86f-400...|68340205aec8b2058...|         3|           0|           0|          2|          5|\n",
      "|54303116-f86f-400...|68340206aec8b2058...|         3|           0|           0|          2|          5|\n",
      "+--------------------+--------------------+----------+------------+------------+-----------+-----------+\n",
      "\n"
     ]
    }
   ],
   "source": [
    "df_drop = df_with_score.drop(\"eventType\", \"liked\", \"rating\", \"review\")\n",
    "\n",
    "# user_id, content_id별 total_score 합계 계산\n",
    "df_agg = (\n",
    "    df_with_score\n",
    "    .withColumnRenamed(\"userId\", \"user_id\")\n",
    "    .withColumnRenamed(\"contentId\", \"content_id\")\n",
    "    .withColumn(\"total_score\", col(\"like_score\") + col(\"review_score\") + col(\"rating_score\") + col(\"click_score\"))\n",
    "    .groupBy(\"user_id\", \"content_id\")\n",
    "    .agg(\n",
    "        _sum(\"like_score\").alias(\"like_score\"),\n",
    "        _sum(\"review_score\").alias(\"review_score\"),\n",
    "        _sum(\"rating_score\").alias(\"rating_score\"),\n",
    "        _sum(\"click_score\").alias(\"click_score\"),\n",
    "        _sum(\"total_score\").alias(\"total_score\")\n",
    "    )\n",
    "    .orderBy(col(\"user_id\").asc(), col(\"content_id\").asc())\n",
    ")\n",
    "\n",
    "df_agg.show()\n"
   ]
  },
  {
   "cell_type": "code",
   "execution_count": 13,
   "id": "842bdb37-acd0-4ecb-8b6d-c1013fe08b89",
   "metadata": {},
   "outputs": [
    {
     "name": "stdout",
     "output_type": "stream",
     "text": [
      "+--------------------+--------------------+-----------+\n",
      "|             user_id|          content_id|total_score|\n",
      "+--------------------+--------------------+-----------+\n",
      "|315439d0-8722-4a7...|68340205aec8b2058...|          4|\n",
      "|315439d0-8722-4a7...|68340205aec8b2058...|          9|\n",
      "|315439d0-8722-4a7...|68340206aec8b2058...|          4|\n",
      "|54303116-f86f-400...|68340205aec8b2058...|          5|\n",
      "|54303116-f86f-400...|68340206aec8b2058...|          5|\n",
      "+--------------------+--------------------+-----------+\n",
      "\n"
     ]
    }
   ],
   "source": [
    "df_score = df_agg.drop(\"like_score\",\"review_score\",\"rating_score\",\"click_score\")\n",
    "df_score.show()"
   ]
  },
  {
   "cell_type": "code",
   "execution_count": null,
   "id": "3c48c846-ee6b-44e8-ada8-f5cbb4b9077f",
   "metadata": {},
   "outputs": [],
   "source": []
  }
 ],
 "metadata": {
  "kernelspec": {
   "display_name": "Python 3 (ipykernel)",
   "language": "python",
   "name": "python3"
  },
  "language_info": {
   "codemirror_mode": {
    "name": "ipython",
    "version": 3
   },
   "file_extension": ".py",
   "mimetype": "text/x-python",
   "name": "python",
   "nbconvert_exporter": "python",
   "pygments_lexer": "ipython3",
   "version": "3.11.9"
  }
 },
 "nbformat": 4,
 "nbformat_minor": 5
}
